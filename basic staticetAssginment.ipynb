{
 "cells": [
  {
   "cell_type": "code",
   "execution_count": null,
   "id": "82c39dea-7cf8-4974-b404-c698ba0eb84d",
   "metadata": {},
   "outputs": [],
   "source": [
    "Q1. What are the three measures of central tendency?\n",
    "Ans:-There are three main measures of central tendency: mode. median. mean"
   ]
  },
  {
   "cell_type": "code",
   "execution_count": null,
   "id": "899bc8d5-4aee-486e-b830-2c0065861861",
   "metadata": {},
   "outputs": [],
   "source": [
    "Q2. What is the difference between the mean, median, and mode? How are they used to measure the \n",
    "central tendency of a dataset?\n",
    "Ans:-The mean (average) of a data set is found by adding all numbers in the data set and then dividing by the number of values in the set. The median is the middle value when a data set is ordered from least to greatest. The mode is the number that occurs most often in a data set."
   ]
  },
  {
   "cell_type": "code",
   "execution_count": null,
   "id": "e977d6f3-bb99-4d3b-ad9a-cdc9f013eed9",
   "metadata": {},
   "outputs": [],
   "source": [
    "The 3 most common measures of central tendency are the mean, median and mode. The mode is the most frequent value. The median is the middle number in an ordered data set. The mean is the sum of all values divided by the total number of values."
   ]
  },
  {
   "cell_type": "code",
   "execution_count": 1,
   "id": "668b711f-c582-4b0f-bc42-c16d9bcb194d",
   "metadata": {},
   "outputs": [],
   "source": [
    "#Q3. Measure the three measures of central tendency for the given height data:\n",
    "\n",
    "data= [178,177,176,177,178.2,178,175,179,180,175,178.9,176.2,177,172.5,178,176.5]"
   ]
  },
  {
   "cell_type": "code",
   "execution_count": 2,
   "id": "cec3429a-1927-4500-b687-5692aab3d150",
   "metadata": {},
   "outputs": [
    {
     "data": {
      "text/plain": [
       "177.01875"
      ]
     },
     "execution_count": 2,
     "metadata": {},
     "output_type": "execute_result"
    }
   ],
   "source": [
    "import numpy as np\n",
    "np.mean(data)\n"
   ]
  },
  {
   "cell_type": "code",
   "execution_count": 3,
   "id": "5fae8b9a-517f-444f-9a2b-9945ac80e51e",
   "metadata": {},
   "outputs": [
    {
     "data": {
      "text/plain": [
       "177.0"
      ]
     },
     "execution_count": 3,
     "metadata": {},
     "output_type": "execute_result"
    }
   ],
   "source": [
    "np.median(data)"
   ]
  },
  {
   "cell_type": "code",
   "execution_count": 5,
   "id": "f7e305ab-929e-4466-838f-7388106ece11",
   "metadata": {},
   "outputs": [
    {
     "name": "stderr",
     "output_type": "stream",
     "text": [
      "/tmp/ipykernel_77/2800027621.py:2: FutureWarning: Unlike other reduction functions (e.g. `skew`, `kurtosis`), the default behavior of `mode` typically preserves the axis it acts along. In SciPy 1.11.0, this behavior will change: the default value of `keepdims` will become False, the `axis` over which the statistic is taken will be eliminated, and the value None will no longer be accepted. Set `keepdims` to True or False to avoid this warning.\n",
      "  stats.mode(data)\n"
     ]
    },
    {
     "data": {
      "text/plain": [
       "ModeResult(mode=array([177.]), count=array([3]))"
      ]
     },
     "execution_count": 5,
     "metadata": {},
     "output_type": "execute_result"
    }
   ],
   "source": [
    "from scipy import stats\n",
    "stats.mode(data)"
   ]
  },
  {
   "cell_type": "code",
   "execution_count": 6,
   "id": "9ebf944f-8a0e-4bfc-98db-c956fa748b70",
   "metadata": {},
   "outputs": [],
   "source": [
    "#Q4. Find the standard deviation for the given data:\n",
    "\n",
    "data=[178,177,176,177,178.2,178,175,179,180,175,178.9,176.2,177,172.5,178,176.5]"
   ]
  },
  {
   "cell_type": "code",
   "execution_count": 7,
   "id": "988190e1-7510-411f-b5b1-7a6a7465d702",
   "metadata": {},
   "outputs": [],
   "source": [
    "import numpy as np"
   ]
  },
  {
   "cell_type": "code",
   "execution_count": 8,
   "id": "3519ac56-7e7a-4ea4-b542-c5670768820e",
   "metadata": {},
   "outputs": [
    {
     "data": {
      "text/plain": [
       "1.7885814036548633"
      ]
     },
     "execution_count": 8,
     "metadata": {},
     "output_type": "execute_result"
    }
   ],
   "source": [
    "#std\n",
    "np.std(data)"
   ]
  },
  {
   "cell_type": "code",
   "execution_count": null,
   "id": "b46d1ae8-6776-45cc-aa61-a2476037ac90",
   "metadata": {},
   "outputs": [],
   "source": [
    "Q5. How are measures of dispersion such as range, variance, and standard deviation used to describe \n",
    "the spread of a dataset? Provide an example."
   ]
  },
  {
   "cell_type": "code",
   "execution_count": 14,
   "id": "4a10d877-8501-46d4-b936-78bdf8606d44",
   "metadata": {},
   "outputs": [
    {
     "name": "stdout",
     "output_type": "stream",
     "text": [
      "this is  standard deviation\n"
     ]
    },
    {
     "data": {
      "text/plain": [
       "1.7885814036548633"
      ]
     },
     "execution_count": 14,
     "metadata": {},
     "output_type": "execute_result"
    }
   ],
   "source": [
    "import numpy as np\n",
    "data=[178,177,176,177,178.2,178,175,179,180,175,178.9,176.2,177,172.5,178,176.5]\n",
    "print(\"this is  standard deviation\")\n",
    "np.std(data)\n"
   ]
  },
  {
   "cell_type": "code",
   "execution_count": 13,
   "id": "dc941209-7a52-4530-8c4a-4b898d238e8a",
   "metadata": {},
   "outputs": [
    {
     "name": "stdout",
     "output_type": "stream",
     "text": [
      "this is variance\n"
     ]
    },
    {
     "data": {
      "text/plain": [
       "3.199023437500001"
      ]
     },
     "execution_count": 13,
     "metadata": {},
     "output_type": "execute_result"
    }
   ],
   "source": [
    "print(\"this is variance\")\n",
    "np.var(data)"
   ]
  },
  {
   "cell_type": "code",
   "execution_count": null,
   "id": "0d879dea-fcc5-4cd8-8d85-8bdeb2017687",
   "metadata": {},
   "outputs": [],
   "source": [
    "Q6. What is a Venn diagram?\n",
    "Ans:-A Venn diagram uses overlapping circles or other shapes to illustrate the logical relationships between two or more sets of items. Often, they serve to graphically organize things, highlighting how the items are similar and different"
   ]
  },
  {
   "cell_type": "code",
   "execution_count": null,
   "id": "912ec309-e9ce-4a07-9051-661f1d750692",
   "metadata": {},
   "outputs": [],
   "source": [
    "Q7. For the two given sets A = (2,3,4,5,6,7) & B = (0,2,6,8,10). Find:\n",
    "\n",
    "(i) \tA B\n",
    "\n",
    "(ii)\tA ⋃ B\n",
    "Ans:-(1):-{2,6}\n",
    "     (2):-{0,2,3,4,5,6,7,8,10}"
   ]
  },
  {
   "cell_type": "code",
   "execution_count": null,
   "id": "fabc9e38-b732-485b-9504-1765d75d9e13",
   "metadata": {},
   "outputs": [],
   "source": [
    "Q8. What do you understand about skewness in data?\n",
    "Ans:-a measurement of the distortion of symmetrical distribution or asymmetry in a data set. "
   ]
  },
  {
   "cell_type": "code",
   "execution_count": null,
   "id": "d18ddbbe-cd29-4bec-8364-548680a04f0a",
   "metadata": {},
   "outputs": [],
   "source": [
    "Q9. If a data is right skewed then what will be the position of median with respect to mean?\n",
    "Ans:-mean>median>mode"
   ]
  },
  {
   "cell_type": "code",
   "execution_count": null,
   "id": "cdee5ee7-cd45-45c2-8b71-e4e4e961739d",
   "metadata": {},
   "outputs": [],
   "source": [
    "Q10. Explain the difference between covariance and correlation. How are these measures used in \n",
    "statistical analysis?\n",
    "Ans:-Covariance and correlation are two terms that are opposed and are both used in statistics and regression analysis. Covariance shows you how the two variables differ, whereas correlation shows you how the two variables are related."
   ]
  },
  {
   "cell_type": "code",
   "execution_count": null,
   "id": "da202d86-233d-421b-8643-8df296357b49",
   "metadata": {},
   "outputs": [],
   "source": [
    "Q11. What is the formula for calculating the sample mean? Provide an example calculation for a \n",
    "dataset\n",
    "Ans:-Sample Mean = (Sum of terms) ÷ (Number of Terms)\n",
    "To find: Sample mean\n",
    "Sum of terms = 60 + 57 + 109 + 50 = 276\n",
    "Number of terms = 4\n",
    "Using sample mean formula,\n",
    "mean = (sum of terms)/(number of terms)\n",
    "mean = 276/4 = 69"
   ]
  },
  {
   "cell_type": "code",
   "execution_count": null,
   "id": "3c03ddab-4427-43a6-abb9-fa06c67d8948",
   "metadata": {},
   "outputs": [],
   "source": [
    "Q12. For a normal distribution data what is the relationship between its measure of central tendency\n",
    "Ans:-Any normal distribution has a graph that is perfectly symmetric about a vertical line through its peak. Therefore, all measures of central tendency (most commonly, the mean, median, and mode) give the same answer: the x -value of the peak"
   ]
  },
  {
   "cell_type": "code",
   "execution_count": null,
   "id": "b7741d83-87be-4b53-b2d0-62ba9dbd8424",
   "metadata": {},
   "outputs": [],
   "source": [
    " How is covariance different from correlation?\n",
    "Ans:- Covariance shows you how the two variables differ, whereas correlation shows you how the two variables are related."
   ]
  },
  {
   "cell_type": "code",
   "execution_count": null,
   "id": "960f1b37-ba88-410e-a4c2-b4c77117bb7e",
   "metadata": {},
   "outputs": [],
   "source": [
    "Q14. How do outliers affect measures of central tendency and dispersion? Provide an example."
   ]
  },
  {
   "cell_type": "code",
   "execution_count": null,
   "id": "449f01f1-597a-40d4-bb52-e29bd3352298",
   "metadata": {},
   "outputs": [],
   "source": []
  }
 ],
 "metadata": {
  "kernelspec": {
   "display_name": "Python 3 (ipykernel)",
   "language": "python",
   "name": "python3"
  },
  "language_info": {
   "codemirror_mode": {
    "name": "ipython",
    "version": 3
   },
   "file_extension": ".py",
   "mimetype": "text/x-python",
   "name": "python",
   "nbconvert_exporter": "python",
   "pygments_lexer": "ipython3",
   "version": "3.10.8"
  }
 },
 "nbformat": 4,
 "nbformat_minor": 5
}
